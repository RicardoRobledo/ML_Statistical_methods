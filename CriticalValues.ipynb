{
 "cells": [
  {
   "cell_type": "markdown",
   "id": "ab366d85-8120-4c36-81e8-c8edac10945b",
   "metadata": {},
   "source": [
    "# Gaussian Critical Values"
   ]
  },
  {
   "cell_type": "code",
   "execution_count": 1,
   "id": "620767e0-06e5-4cb9-8bf1-50253309cec0",
   "metadata": {},
   "outputs": [
    {
     "name": "stdout",
     "output_type": "stream",
     "text": [
      "1.6448536269514722\n",
      "0.95\n"
     ]
    }
   ],
   "source": [
    "# gaussian percent point function\n",
    "from scipy.stats import norm\n",
    "\n",
    "# define probability\n",
    "p = 0.95\n",
    "\n",
    "# retrieve value <= probability\n",
    "value = norm.ppf(p)\n",
    "print(value)\n",
    "\n",
    "# confirm with cdf\n",
    "p = norm.cdf(value)\n",
    "print(p)"
   ]
  },
  {
   "cell_type": "markdown",
   "id": "02a0529f-4db6-4aec-840d-018fc98e7058",
   "metadata": {},
   "source": [
    "# Student’s t Critical Values"
   ]
  },
  {
   "cell_type": "code",
   "execution_count": 3,
   "id": "8bcb215d-9643-4f57-a8ca-70a0d05960ad",
   "metadata": {},
   "outputs": [
    {
     "name": "stdout",
     "output_type": "stream",
     "text": [
      "1.8124611228107335\n",
      "0.949999999999923\n"
     ]
    }
   ],
   "source": [
    "#studentt-distributionpercentpointfunction\n",
    "from scipy.stats import t\n",
    "\n",
    "#defineprobability\n",
    "p = 0.95\n",
    "df = 10\n",
    "\n",
    "#retrievevalue<=probability\n",
    "value = t.ppf(p,df)\n",
    "print(value)\n",
    "\n",
    "#confirmwithcdf\n",
    "p = t.cdf(value,df)\n",
    "print(p)"
   ]
  },
  {
   "cell_type": "markdown",
   "id": "f179c1b8-0b09-46f8-8a19-71073f513be8",
   "metadata": {},
   "source": [
    "# Chi-Squared Critical Values"
   ]
  },
  {
   "cell_type": "code",
   "execution_count": 5,
   "id": "287c1848-9be1-4b2b-8b28-7fe67befd1cc",
   "metadata": {},
   "outputs": [
    {
     "name": "stdout",
     "output_type": "stream",
     "text": [
      "18.307038053275146\n",
      "0.95\n"
     ]
    }
   ],
   "source": [
    "#chi-squaredpercentpointfunction\n",
    "from scipy.stats import chi2\n",
    "\n",
    "#defineprobability\n",
    "p = 0.95\n",
    "df = 10\n",
    "\n",
    "#retrievevalue<=probability\n",
    "value = chi2.ppf(p,df)\n",
    "print(value)\n",
    "\n",
    "#confirmwithcdf\n",
    "p = chi2.cdf(value,df)\n",
    "print(p)"
   ]
  }
 ],
 "metadata": {
  "kernelspec": {
   "display_name": "Python 3 (ipykernel)",
   "language": "python",
   "name": "python3"
  },
  "language_info": {
   "codemirror_mode": {
    "name": "ipython",
    "version": 3
   },
   "file_extension": ".py",
   "mimetype": "text/x-python",
   "name": "python",
   "nbconvert_exporter": "python",
   "pygments_lexer": "ipython3",
   "version": "3.11.10"
  }
 },
 "nbformat": 4,
 "nbformat_minor": 5
}
