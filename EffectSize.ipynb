{
 "cells": [
  {
   "cell_type": "code",
   "execution_count": 1,
   "id": "5637aa69-1762-4740-a756-212ef4292afb",
   "metadata": {},
   "outputs": [
    {
     "name": "stdout",
     "output_type": "stream",
     "text": [
      "Pearsons correlation: 0.712\n"
     ]
    }
   ],
   "source": [
    "# calculate the pearson's correlation between two variables\n",
    "from numpy.random import randn\n",
    "from numpy.random import seed\n",
    "from scipy.stats import pearsonr\n",
    "\n",
    "# seed random number generator\n",
    "seed(1)\n",
    "\n",
    "# prepare data\n",
    "data1 = 10 * randn(10000) + 50\n",
    "data2 = data1 + (10 * randn(10000) + 50)\n",
    "\n",
    "# calculate pearson's correlation\n",
    "corr, _ = pearsonr(data1, data2)\n",
    "print('Pearsons correlation: %.3f' % corr)"
   ]
  },
  {
   "cell_type": "code",
   "execution_count": 3,
   "id": "3705e47a-de7c-460a-a897-4f3cdccdffde",
   "metadata": {},
   "outputs": [
    {
     "name": "stdout",
     "output_type": "stream",
     "text": [
      "Cohen's d: 0.500\n"
     ]
    }
   ],
   "source": [
    "# calculate the Cohen's d between two samples\n",
    "from numpy.random import randn, seed\n",
    "from numpy import mean, var\n",
    "from math import sqrt\n",
    "\n",
    "# Function to calculate Cohen's d for independent samples\n",
    "def cohend(d1, d2):\n",
    "    # Calculate the size of samples\n",
    "    n1, n2 = len(d1), len(d2)\n",
    "    # Calculate the variance of the samples (ddof=1 → muestra)\n",
    "    s1, s2 = var(d1, ddof=1), var(d2, ddof=1)\n",
    "    # Calculate the pooled standard deviation\n",
    "    s = sqrt(((n1 - 1) * s1 + (n2 - 1) * s2) / (n1 + n2 - 2))\n",
    "    # Calculate the means of the samples\n",
    "    u1, u2 = mean(d1), mean(d2)\n",
    "    # Calculate the effect size\n",
    "    return (u1 - u2) / s\n",
    "\n",
    "# Seed random number generator\n",
    "seed(1)\n",
    "\n",
    "# Prepare data: two samples with different means\n",
    "data1 = 10 * randn(10000) + 60\n",
    "data2 = 10 * randn(10000) + 55\n",
    "\n",
    "# Calculate Cohen's d\n",
    "d = cohend(data1, data2)\n",
    "print('Cohen\\'s d: %.3f' % d)"
   ]
  },
  {
   "cell_type": "markdown",
   "id": "c44259db-70f3-4a3c-9e49-b239940b9e54",
   "metadata": {},
   "source": [
    "# 📏 Interpretación de Cohen's d (Tamaño del Efecto)\n",
    "\n",
    "**Cohen's d** mide la diferencia entre dos medias en unidades de desviación estándar.\n",
    "\n",
    "| Tamaño del Efecto | Valor de `d`       | Interpretación                            |\n",
    "|--------------------|--------------------|--------------------------------------------|\n",
    "| 🟢 **Pequeño**     | `d ≈ 0.20`         | Hay una diferencia, pero es sutil          |\n",
    "| 🟡 **Mediano**     | `d ≈ 0.50`         | Diferencia moderada y apreciable           |\n",
    "| 🔴 **Grande**      | `d ≈ 0.80` o más   | La diferencia es clara y significativa     |\n",
    "\n",
    "> 📌 Estos valores son una guía general, no reglas estrictas. Dependen del contexto del estudio.\n",
    "\n",
    "## 📊 Otros Métodos Populares para Medir el Tamaño del Efecto\n",
    "\n",
    "Además de **Cohen’s d**, existen otras métricas muy utilizadas para cuantificar la **diferencia entre tratamientos** o grupos:\n",
    "\n",
    "- **🔁 Odds Ratio (OR)**  \n",
    "  Mide las **probabilidades (odds)** de que ocurra un resultado en un grupo (tratamiento) comparado con otro.  \n",
    "  > Útil en estudios de caso-control o ensayos clínicos.\n",
    "\n",
    "- **📈 Relative Risk Ratio (RR)**  \n",
    "  Mide las **probabilidades absolutas (riesgos)** de que ocurra un evento en un grupo respecto a otro.  \n",
    "  > Comúnmente usado en epidemiología y estudios prospectivos.\n",
    "\n",
    "> 📌 Ambas métricas se usan para analizar si un tratamiento o condición **aumenta o disminuye** la probabilidad de un evento.\n"
   ]
  },
  {
   "cell_type": "code",
   "execution_count": null,
   "id": "b45cf06a-19a9-4a87-9dc4-7034e325fcae",
   "metadata": {},
   "outputs": [],
   "source": []
  }
 ],
 "metadata": {
  "kernelspec": {
   "display_name": "Python 3 (ipykernel)",
   "language": "python",
   "name": "python3"
  },
  "language_info": {
   "codemirror_mode": {
    "name": "ipython",
    "version": 3
   },
   "file_extension": ".py",
   "mimetype": "text/x-python",
   "name": "python",
   "nbconvert_exporter": "python",
   "pygments_lexer": "ipython3",
   "version": "3.11.10"
  }
 },
 "nbformat": 4,
 "nbformat_minor": 5
}
