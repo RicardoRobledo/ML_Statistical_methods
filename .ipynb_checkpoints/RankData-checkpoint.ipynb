{
 "cells": [
  {
   "cell_type": "code",
   "execution_count": 1,
   "id": "63b8d6af-9e59-4ee3-92c0-c8fe725c9852",
   "metadata": {},
   "outputs": [
    {
     "name": "stdout",
     "output_type": "stream",
     "text": [
      "Primeros 10 datos originales:\n",
      "[4.17022005e-01 7.20324493e-01 1.14374817e-04 3.02332573e-01\n",
      " 1.46755891e-01 9.23385948e-02 1.86260211e-01 3.45560727e-01\n",
      " 3.96767474e-01 5.38816734e-01]\n",
      "Primeros 10 datos rankeados:\n",
      "[408. 721.   1. 300. 151.  93. 186. 342. 385. 535.]\n"
     ]
    }
   ],
   "source": [
    "# Example of ranking real-valued observations\n",
    "from numpy.random import rand, seed\n",
    "from scipy.stats import rankdata\n",
    "\n",
    "# Seed random number generator\n",
    "seed(1)\n",
    "\n",
    "# Generate dataset\n",
    "data = rand(1000)\n",
    "\n",
    "# Review first 10 samples\n",
    "print(\"Primeros 10 datos originales:\")\n",
    "print(data[:10])\n",
    "\n",
    "# Rank data\n",
    "ranked = rankdata(data)\n",
    "\n",
    "# Review first 10 ranked samples\n",
    "print(\"Primeros 10 datos rankeados:\")\n",
    "print(ranked[:10])"
   ]
  },
  {
   "cell_type": "code",
   "execution_count": null,
   "id": "ec4013c3-d2c2-4553-8fcc-af13fe1a9dec",
   "metadata": {},
   "outputs": [],
   "source": []
  }
 ],
 "metadata": {
  "kernelspec": {
   "display_name": "Python 3 (ipykernel)",
   "language": "python",
   "name": "python3"
  },
  "language_info": {
   "codemirror_mode": {
    "name": "ipython",
    "version": 3
   },
   "file_extension": ".py",
   "mimetype": "text/x-python",
   "name": "python",
   "nbconvert_exporter": "python",
   "pygments_lexer": "ipython3",
   "version": "3.11.10"
  }
 },
 "nbformat": 4,
 "nbformat_minor": 5
}
