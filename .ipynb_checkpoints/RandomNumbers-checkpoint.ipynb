{
 "cells": [
  {
   "cell_type": "code",
   "execution_count": 1,
   "id": "6d6b9232-ca83-4f69-a26d-bd08f79bfbdc",
   "metadata": {},
   "outputs": [
    {
     "name": "stdout",
     "output_type": "stream",
     "text": [
      "0.13436424411240122 0.8474337369372327 0.763774618976614\n",
      "0.13436424411240122 0.8474337369372327 0.763774618976614\n"
     ]
    }
   ],
   "source": [
    "# seed the pseudorandom number generator\n",
    "from random import seed\n",
    "from random import random\n",
    "\n",
    "# seed random number generator\n",
    "seed(1)\n",
    "\n",
    "# generate some random numbers\n",
    "print(random(), random(), random())\n",
    "\n",
    "# reset the seed\n",
    "seed(1)\n",
    "\n",
    "# generate some random numbers\n",
    "print(random(), random(), random())"
   ]
  },
  {
   "cell_type": "code",
   "execution_count": 5,
   "id": "a665d73e-87d4-4dfd-98c4-418dc118a98d",
   "metadata": {},
   "outputs": [
    {
     "name": "stdout",
     "output_type": "stream",
     "text": [
      "0.13436424411240122\n",
      "0.8474337369372327\n",
      "0.763774618976614\n",
      "0.2550690257394217\n",
      "0.49543508709194095\n",
      "0.4494910647887381\n",
      "0.651592972722763\n",
      "0.7887233511355132\n",
      "0.0938595867742349\n",
      "0.02834747652200631\n"
     ]
    }
   ],
   "source": [
    "#seedrandomnumbergenerator\n",
    "seed(1)\n",
    "\n",
    "#generaterandomnumbersbetween0-1\n",
    "for _ in range(10):\n",
    "    value = random()\n",
    "    print(value)"
   ]
  },
  {
   "cell_type": "code",
   "execution_count": 7,
   "id": "d75d6e29-4699-4498-8a7c-53ba4922f336",
   "metadata": {},
   "outputs": [
    {
     "name": "stdout",
     "output_type": "stream",
     "text": [
      "2\n",
      "9\n",
      "1\n",
      "4\n",
      "1\n",
      "7\n",
      "7\n",
      "7\n",
      "10\n",
      "6\n"
     ]
    }
   ],
   "source": [
    "from random import randint\n",
    "\n",
    "#seedrandomnumbergenerator\n",
    "seed(1)\n",
    "\n",
    "#generatesomeintegers\n",
    "for _ in range(10):\n",
    "    value = randint(0,10)\n",
    "    print(value)"
   ]
  },
  {
   "cell_type": "code",
   "execution_count": 9,
   "id": "f1cc1452-856c-4e72-a802-f871f86be5fa",
   "metadata": {},
   "outputs": [
    {
     "name": "stdout",
     "output_type": "stream",
     "text": [
      "1.2881847531554629\n",
      "1.449445608699771\n",
      "0.06633580893826191\n",
      "-0.7645436509716318\n",
      "-1.0921732151041414\n",
      "0.03133451683171687\n",
      "-1.022103170010873\n",
      "-1.4368294451025299\n",
      "0.19931197648375384\n",
      "0.13337460465860485\n"
     ]
    }
   ],
   "source": [
    "from random import gauss\n",
    "\n",
    "#seedrandomnumbergenerator\n",
    "seed(1)\n",
    "\n",
    "# generate some Gaussian values\n",
    "for _ in range(10):\n",
    "    value = gauss(0, 1)\n",
    "    print(value)"
   ]
  },
  {
   "cell_type": "code",
   "execution_count": 13,
   "id": "d8447450-8821-42a8-8c53-8e0de02797fe",
   "metadata": {},
   "outputs": [
    {
     "name": "stdout",
     "output_type": "stream",
     "text": [
      "[0, 1, 2, 3, 4, 5, 6, 7, 8, 9, 10, 11, 12, 13, 14, 15, 16, 17, 18, 19]\n",
      "4\n",
      "18\n",
      "2\n",
      "8\n",
      "3\n"
     ]
    }
   ],
   "source": [
    "from random import choice\n",
    "\n",
    "\n",
    "seed(1)\n",
    "\n",
    "# prepare a sequence\n",
    "sequence = [i for i in range(20)]\n",
    "\n",
    "print(sequence)\n",
    "# make choices from the sequence\n",
    "\n",
    "for _ in range(5):\n",
    "    selection = choice(sequence)\n",
    "    print(selection)"
   ]
  },
  {
   "cell_type": "code",
   "execution_count": 15,
   "id": "1e1c8630-47dc-4585-a34c-69a790181120",
   "metadata": {},
   "outputs": [
    {
     "name": "stdout",
     "output_type": "stream",
     "text": [
      "[0, 1, 2, 3, 4, 5, 6, 7, 8, 9, 10, 11, 12, 13, 14, 15, 16, 17, 18, 19]\n",
      "[4, 18, 2, 8, 3]\n"
     ]
    }
   ],
   "source": [
    "from random import sample\n",
    "\n",
    "# seed random number generator\n",
    "seed(1)\n",
    "\n",
    "# prepare a sequence\n",
    "sequence = [i for i in range(20)]\n",
    "print(sequence)\n",
    "\n",
    "# select a subset without replacement\n",
    "subset = sample(sequence, 5)\n",
    "print(subset)"
   ]
  },
  {
   "cell_type": "code",
   "execution_count": 21,
   "id": "7a7f466b-047e-4650-b0fe-14d8c7dde38d",
   "metadata": {},
   "outputs": [
    {
     "name": "stdout",
     "output_type": "stream",
     "text": [
      "[0, 1, 2, 3, 4, 5, 6, 7, 8, 9, 10, 11, 12, 13, 14, 15, 16, 17, 18, 19]\n",
      "[11, 5, 17, 19, 9, 0, 16, 1, 15, 6, 10, 13, 14, 12, 7, 3, 8, 2, 18, 4]\n"
     ]
    }
   ],
   "source": [
    "from random import shuffle\n",
    "\n",
    "# seed random number generator\n",
    "seed(1)\n",
    "\n",
    "# prepare a sequence\n",
    "sequence = [i for i in range(20)]\n",
    "print(sequence)\n",
    "\n",
    "# randomly shuffle the sequence\n",
    "shuffle(sequence)\n",
    "print(sequence)"
   ]
  },
  {
   "cell_type": "markdown",
   "id": "6b785704-359c-4003-ac0c-e6252971951c",
   "metadata": {},
   "source": [
    "# Random numbers Numpy"
   ]
  },
  {
   "cell_type": "code",
   "execution_count": 24,
   "id": "6703a30a-1989-4e24-959b-5a2e0dab89ff",
   "metadata": {},
   "outputs": [
    {
     "name": "stdout",
     "output_type": "stream",
     "text": [
      "[4.17022005e-01 7.20324493e-01 1.14374817e-04]\n",
      "[4.17022005e-01 7.20324493e-01 1.14374817e-04]\n"
     ]
    }
   ],
   "source": [
    "# seed the pseudorandom number generator\n",
    "from numpy.random import seed\n",
    "from numpy.random import rand\n",
    "\n",
    "# seed random number generator\n",
    "seed(1)\n",
    "\n",
    "# generate some random numbers\n",
    "print(rand(3))\n",
    "\n",
    "# reset the seed\n",
    "seed(1)\n",
    "\n",
    "# generate some random numbers\n",
    "print(rand(3))"
   ]
  },
  {
   "cell_type": "code",
   "execution_count": 26,
   "id": "b46c66ad-d61c-491a-af4f-c9f9474a1bb2",
   "metadata": {},
   "outputs": [
    {
     "name": "stdout",
     "output_type": "stream",
     "text": [
      "[4.17022005e-01 7.20324493e-01 1.14374817e-04 3.02332573e-01\n",
      " 1.46755891e-01 9.23385948e-02 1.86260211e-01 3.45560727e-01\n",
      " 3.96767474e-01 5.38816734e-01]\n"
     ]
    }
   ],
   "source": [
    "from numpy.random import rand\n",
    "\n",
    "# seed random number generator\n",
    "seed(1)\n",
    "\n",
    "# generate random numbers between 0-1\n",
    "values = rand(10)\n",
    "print(values)"
   ]
  },
  {
   "cell_type": "code",
   "execution_count": 28,
   "id": "d631126f-9c4f-4055-8906-8292a840919a",
   "metadata": {},
   "outputs": [
    {
     "name": "stdout",
     "output_type": "stream",
     "text": [
      "[5 8 9 5 0 0 1 7 6 9 2 4 5 2 4 2 4 7 7 9]\n"
     ]
    }
   ],
   "source": [
    "from numpy.random import randint\n",
    "\n",
    "# seed random number generator\n",
    "seed(1)\n",
    "\n",
    "# generate some integers\n",
    "values = randint(0, 10, 20)\n",
    "print(values)"
   ]
  },
  {
   "cell_type": "code",
   "execution_count": 30,
   "id": "0ab515f9-5155-4031-963c-6eda67eebbbf",
   "metadata": {},
   "outputs": [
    {
     "name": "stdout",
     "output_type": "stream",
     "text": [
      "[ 1.62434536 -0.61175641 -0.52817175 -1.07296862  0.86540763 -2.3015387\n",
      "  1.74481176 -0.7612069   0.3190391  -0.24937038]\n"
     ]
    }
   ],
   "source": [
    "from numpy.random import randn\n",
    "\n",
    "# seed random number generator\n",
    "seed(1)\n",
    "\n",
    "# generate some Gaussian values\n",
    "values = randn(10)\n",
    "print(values)"
   ]
  },
  {
   "cell_type": "code",
   "execution_count": 32,
   "id": "e49dd552-5830-443d-bbad-68cddc01d389",
   "metadata": {},
   "outputs": [
    {
     "name": "stdout",
     "output_type": "stream",
     "text": [
      "[0, 1, 2, 3, 4, 5, 6, 7, 8, 9, 10, 11, 12, 13, 14, 15, 16, 17, 18, 19]\n",
      "[3, 16, 6, 10, 2, 14, 4, 17, 7, 1, 13, 0, 19, 18, 9, 15, 8, 12, 11, 5]\n"
     ]
    }
   ],
   "source": [
    "from numpy.random import shuffle\n",
    "\n",
    "# seed random number generator\n",
    "seed(1)\n",
    "\n",
    "# prepare a sequence\n",
    "sequence = [i for i in range(20)]\n",
    "print(sequence)\n",
    "\n",
    "# randomly shuffle the sequence\n",
    "shuffle(sequence)\n",
    "print(sequence)"
   ]
  },
  {
   "cell_type": "code",
   "execution_count": null,
   "id": "3ab85591-ae7c-41f1-9a76-9ab04470ade9",
   "metadata": {},
   "outputs": [],
   "source": []
  }
 ],
 "metadata": {
  "kernelspec": {
   "display_name": "Python 3 (ipykernel)",
   "language": "python",
   "name": "python3"
  },
  "language_info": {
   "codemirror_mode": {
    "name": "ipython",
    "version": 3
   },
   "file_extension": ".py",
   "mimetype": "text/x-python",
   "name": "python",
   "nbconvert_exporter": "python",
   "pygments_lexer": "ipython3",
   "version": "3.11.10"
  }
 },
 "nbformat": 4,
 "nbformat_minor": 5
}
