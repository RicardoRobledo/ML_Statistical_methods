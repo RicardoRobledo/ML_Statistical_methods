{
 "cells": [
  {
   "cell_type": "code",
   "execution_count": 3,
   "id": "05d4f850-c7d0-41ef-8087-50c6fbbd7fcb",
   "metadata": {},
   "outputs": [
    {
     "name": "stdout",
     "output_type": "stream",
     "text": [
      "train: [0.1 0.4 0.5 0.6], test: [0.2 0.3]\n",
      "train: [0.2 0.3 0.4 0.6], test: [0.1 0.5]\n",
      "train: [0.1 0.2 0.3 0.5], test: [0.4 0.6]\n"
     ]
    }
   ],
   "source": [
    "from numpy import array\n",
    "from sklearn.model_selection import KFold\n",
    "\n",
    "# data sample\n",
    "data = array([0.1, 0.2, 0.3, 0.4, 0.5, 0.6])\n",
    "\n",
    "# prepare cross validation (n_splits=3, shuffle=True, random_state=1)\n",
    "kfold = KFold(n_splits=3, shuffle=True, random_state=1)\n",
    "\n",
    "# enumerate splits\n",
    "for train, test in kfold.split(data):\n",
    "    print('train: %s, test: %s' % (data[train], data[test]))"
   ]
  },
  {
   "cell_type": "markdown",
   "id": "dcb454f1-f7b9-4e96-97da-c03919b8b433",
   "metadata": {},
   "source": [
    "### Variations on Cross-Validation\n",
    "\n",
    "There are a number of variations on the k-fold cross-validation procedure. Three commonly used variations are as follows:\n",
    "\n",
    "- **Train/Test Split**:  \n",
    "  Taken to one extreme, *k* may be set to 1 such that a single train/test split is created to evaluate the model.\n",
    "\n",
    "- **LOOCV (Leave-One-Out Cross-Validation)**:  \n",
    "  Taken to another extreme, *k* may be set to the total number of observations in the dataset such that each observation is given a chance to be the held-out of the dataset. This is called **leave-one-out cross-validation**, or **LOOCV** for short.\n",
    "\n",
    "- **Stratified**:  \n",
    "  The splitting of data into folds may be governed by criteria such as ensuring that each fold has the same proportion of observations with a given categorical value, such as the class outcome value. This is called **stratified cross-validation**.\n",
    "\n",
    "- **Repeated**:  \n",
    "  This is where the k-fold cross-validation procedure is repeated *n* times, where importantly, the data sample is shuffled prior to each repetition, which results in a different split of the sample.\n"
   ]
  },
  {
   "cell_type": "code",
   "execution_count": null,
   "id": "e6038e5d-4db7-4d6d-aef6-dc1c767498c0",
   "metadata": {},
   "outputs": [],
   "source": []
  }
 ],
 "metadata": {
  "kernelspec": {
   "display_name": "Python 3 (ipykernel)",
   "language": "python",
   "name": "python3"
  },
  "language_info": {
   "codemirror_mode": {
    "name": "ipython",
    "version": 3
   },
   "file_extension": ".py",
   "mimetype": "text/x-python",
   "name": "python",
   "nbconvert_exporter": "python",
   "pygments_lexer": "ipython3",
   "version": "3.11.10"
  }
 },
 "nbformat": 4,
 "nbformat_minor": 5
}
