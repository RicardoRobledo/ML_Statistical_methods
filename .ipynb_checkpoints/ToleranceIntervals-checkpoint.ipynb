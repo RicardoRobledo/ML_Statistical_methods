{
 "cells": [
  {
   "cell_type": "markdown",
   "id": "7389cd91-781d-411e-856a-40e3d182ae8f",
   "metadata": {},
   "source": [
    "# How to Calculate Tolerance Intervals\n",
    "\n",
    "The size of a tolerance interval is proportional to the size of the data sample from the population and the variance of the population. There are two main methods for calculating tolerance intervals depending on the distribution of data: **parametric** and **nonparametric** methods.\n",
    "\n",
    "## • Parametric Tolerance Interval\n",
    "- Use knowledge of the population distribution in specifying both the **coverage** and **confidence**.\n",
    "- Often used to refer to a **Gaussian distribution**.\n",
    "\n",
    "## • Nonparametric Tolerance Interval\n",
    "- Use **rank statistics** to estimate the coverage and confidence.\n",
    "- Often results in **less precision** (wider intervals) due to the lack of information about the distribution."
   ]
  },
  {
   "cell_type": "code",
   "execution_count": 2,
   "id": "138a1580-9421-4ee9-9830-c1ea8da4d463",
   "metadata": {},
   "outputs": [
    {
     "name": "stdout",
     "output_type": "stream",
     "text": [
      "Gaussian critical value: -1.960 (coverage=95%)\n",
      "Chi-Squared critical value: 69.230 (prob=99%, dof=99)\n",
      "Tolerance Interval: 2.355\n",
      "47.95 to 52.66 covers 95% of data with a confidence of 99%\n"
     ]
    }
   ],
   "source": [
    "# Parametric tolerance interval\n",
    "from numpy.random import seed, randn\n",
    "from numpy import mean, sqrt\n",
    "from scipy.stats import chi2, norm\n",
    "\n",
    "# Seed the random number generator\n",
    "seed(1)\n",
    "\n",
    "# Generate dataset\n",
    "data = 5 * randn(100) + 50\n",
    "\n",
    "# Specify degrees of freedom\n",
    "n = len(data)\n",
    "dof = n - 1\n",
    "\n",
    "# Specify data coverage\n",
    "prop = 0.95\n",
    "prop_inv = (1.0 - prop) / 2.0\n",
    "gauss_critical = norm.ppf(prop_inv)\n",
    "print('Gaussian critical value: %.3f (coverage=%d%%)' % (gauss_critical, prop * 100))\n",
    "\n",
    "# Specify confidence\n",
    "prob = 0.99\n",
    "prop_inv = 1.0 - prob\n",
    "chi_critical = chi2.ppf(prop_inv, dof)\n",
    "print('Chi-Squared critical value: %.3f (prob=%d%%, dof=%d)' % (chi_critical, prob * 100, dof))\n",
    "\n",
    "# Tolerance\n",
    "interval = sqrt((dof * (1 + (1 / n)) * gauss_critical**2) / chi_critical)\n",
    "print('Tolerance Interval: %.3f' % interval)\n",
    "\n",
    "# Summarize\n",
    "data_mean = mean(data)\n",
    "lower, upper = data_mean - interval, data_mean + interval\n",
    "print('%.2f to %.2f covers %d%% of data with a confidence of %d%%' % (\n",
    "    lower, upper, prop * 100, prob * 100))\n"
   ]
  },
  {
   "cell_type": "code",
   "execution_count": 2,
   "id": "e4ff9398-b555-4814-8950-5b3d9703900c",
   "metadata": {},
   "outputs": [
    {
     "data": {
      "image/png": "[encoded data removed]",
      "text/plain": [
       "<Figure size 640x480 with 1 Axes>"
      ]
     },
     "metadata": {},
     "output_type": "display_data"
    }
   ],
   "source": [
    "# plot tolerance interval vs sample size\n",
    "from numpy.random import seed, randn\n",
    "from numpy import sqrt\n",
    "from scipy.stats import chi2, norm\n",
    "from matplotlib import pyplot\n",
    "\n",
    "# seed the random number generator\n",
    "seed(1)\n",
    "\n",
    "# sample sizes\n",
    "sizes = range(5, 15)\n",
    "\n",
    "for n in sizes:\n",
    "    # generate dataset\n",
    "    data = 5 * randn(n) + 50\n",
    "\n",
    "    # calculate degrees of freedom\n",
    "    dof = n - 1\n",
    "\n",
    "    # specify data coverage\n",
    "    prop = 0.95\n",
    "    prop_inv = (1.0 - prop) / 2.0\n",
    "    gauss_critical = norm.ppf(prop_inv)\n",
    "\n",
    "    # specify confidence\n",
    "    prob = 0.99\n",
    "    prop_inv = 1.0 - prob\n",
    "    chi_critical = chi2.ppf(prop_inv, dof)\n",
    "\n",
    "    # tolerance\n",
    "    tol = sqrt((dof * (1 + (1 / n)) * gauss_critical ** 2) / chi_critical)\n",
    "\n",
    "    # plot\n",
    "    pyplot.errorbar(n, 50, yerr=tol, color='blue', fmt='o')\n",
    "\n",
    "# plot results\n",
    "pyplot.show()"
   ]
  },
  {
   "cell_type": "code",
   "execution_count": null,
   "id": "389c2620-cc51-4732-8846-8331c46aac6a",
   "metadata": {},
   "outputs": [],
   "source": []
  }
 ],
 "metadata": {
  "kernelspec": {
   "display_name": "Python 3 (ipykernel)",
   "language": "python",
   "name": "python3"
  },
  "language_info": {
   "codemirror_mode": {
    "name": "ipython",
    "version": 3
   },
   "file_extension": ".py",
   "mimetype": "text/x-python",
   "name": "python",
   "nbconvert_exporter": "python",
   "pygments_lexer": "ipython3",
   "version": "3.11.10"
  }
 },
 "nbformat": 4,
 "nbformat_minor": 5
}
