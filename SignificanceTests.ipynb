{
 "cells": [
  {
   "cell_type": "code",
   "execution_count": 1,
   "id": "1622511c-9e0d-443c-83ff-57e71b2ca4b6",
   "metadata": {},
   "outputs": [
    {
     "name": "stdout",
     "output_type": "stream",
     "text": [
      "data1: mean=50.303 stdv=4.426\n",
      "data2: mean=51.764 stdv=4.660\n"
     ]
    }
   ],
   "source": [
    "# generate gaussian data samples\n",
    "from numpy.random import seed\n",
    "from numpy.random import randn\n",
    "from numpy import mean\n",
    "from numpy import std\n",
    "\n",
    "# seed the random number generator\n",
    "seed(1)\n",
    "\n",
    "# generate two sets of univariate observations\n",
    "data1 = 5 * randn(100) + 50\n",
    "data2 = 5 * randn(100) + 51\n",
    "\n",
    "# summarize\n",
    "print('data1: mean=%.3f stdv=%.3f' % (mean(data1), std(data1)))\n",
    "print('data2: mean=%.3f stdv=%.3f' % (mean(data2), std(data2)))"
   ]
  },
  {
   "cell_type": "markdown",
   "id": "47fbc2d5-3821-46d6-8c7b-cc071d51e4a4",
   "metadata": {},
   "source": [
    "# Student’s t-Test"
   ]
  },
  {
   "cell_type": "code",
   "execution_count": 3,
   "id": "fcc91508-d432-45cd-925b-56cc542687da",
   "metadata": {},
   "outputs": [
    {
     "name": "stdout",
     "output_type": "stream",
     "text": [
      "Statistics=-2.262, p=0.025\n",
      "Different distributions (reject H0)\n"
     ]
    }
   ],
   "source": [
    "# student's t-test\n",
    "from numpy.random import seed\n",
    "from numpy.random import randn\n",
    "from scipy.stats import ttest_ind\n",
    "\n",
    "# seed the random number generator\n",
    "seed(1)\n",
    "\n",
    "# generate two independent samples\n",
    "data1 = 5 * randn(100) + 50\n",
    "data2 = 5 * randn(100) + 51\n",
    "\n",
    "# compare samples\n",
    "stat, p = ttest_ind(data1, data2)\n",
    "print('Statistics=%.3f, p=%.3f' % (stat, p))\n",
    "\n",
    "# interpret\n",
    "alpha = 0.05\n",
    "if p > alpha:\n",
    "    print('Same distributions (fail to reject H0)')\n",
    "else:\n",
    "    print('Different distributions (reject H0)')"
   ]
  },
  {
   "cell_type": "markdown",
   "id": "9110c8ec-9744-4713-8d2e-0046ed4d493b",
   "metadata": {},
   "source": [
    "# Paired Student’s t-Test"
   ]
  },
  {
   "cell_type": "code",
   "execution_count": 3,
   "id": "86c2535e-474a-420b-8bb7-85fc7f0a2fab",
   "metadata": {},
   "outputs": [
    {
     "name": "stdout",
     "output_type": "stream",
     "text": [
      "Statistics=-2.372, p=0.020\n",
      "Different distributions (reject H0)\n"
     ]
    }
   ],
   "source": [
    "# paired student's t-test\n",
    "from numpy.random import seed\n",
    "from numpy.random import randn\n",
    "from scipy.stats import ttest_rel\n",
    "\n",
    "# seed the random number generator\n",
    "seed(1)\n",
    "\n",
    "# generate two independent samples\n",
    "data1 = 5 * randn(100) + 50\n",
    "data2 = 5 * randn(100) + 51\n",
    "\n",
    "# compare samples\n",
    "stat, p = ttest_rel(data1, data2)\n",
    "print('Statistics=%.3f, p=%.3f' % (stat, p))\n",
    "\n",
    "# interpret\n",
    "alpha = 0.05\n",
    "if p > alpha:\n",
    "    print('Same distributions (fail to reject H0)')\n",
    "else:\n",
    "    print('Different distributions (reject H0)')"
   ]
  },
  {
   "cell_type": "markdown",
   "id": "8f92f9be-709d-4b9c-81e0-74bc34287b8f",
   "metadata": {},
   "source": [
    "# Analysis of Variance Test"
   ]
  },
  {
   "cell_type": "code",
   "execution_count": 5,
   "id": "2ea8e39d-e06c-4795-b6b9-fa2c6c162098",
   "metadata": {},
   "outputs": [
    {
     "name": "stdout",
     "output_type": "stream",
     "text": [
      "Statistics=3.655, p=0.027\n",
      "Different distributions (reject H0)\n"
     ]
    }
   ],
   "source": [
    "# analysis of variance test\n",
    "from numpy.random import seed\n",
    "from numpy.random import randn\n",
    "from scipy.stats import f_oneway\n",
    "\n",
    "# seed the random number generator\n",
    "seed(1)\n",
    "\n",
    "# generate three independent samples\n",
    "data1 = 5 * randn(100) + 50\n",
    "data2 = 5 * randn(100) + 50\n",
    "data3 = 5 * randn(100) + 52\n",
    "\n",
    "# compare samples\n",
    "stat, p = f_oneway(data1, data2, data3)\n",
    "print('Statistics=%.3f, p=%.3f' % (stat, p))\n",
    "\n",
    "# interpret\n",
    "alpha = 0.05\n",
    "if p > alpha:\n",
    "    print('Same distributions (fail to reject H0)')\n",
    "else:\n",
    "    print('Different distributions (reject H0)')"
   ]
  },
  {
   "cell_type": "markdown",
   "id": "2e967e4f-c9b0-4b9b-b749-812f561cdd2b",
   "metadata": {},
   "source": [
    "# 📊 Resumen de Pruebas Estadísticas en Python\n",
    "\n",
    "| 🔍 **Prueba**               | 👫 **Tipo de muestras**       | 📦 **Número de grupos** | ✅ **Uso principal**                                   |\n",
    "|----------------------------|-------------------------------|-------------------------|--------------------------------------------------------|\n",
    "| **t-test (Student)**       | Independientes                | 2                       | Comparar medias entre dos grupos **independientes**    |\n",
    "| **t-test (Paired)**        | Dependientes (emparejadas)    | 2                       | Comparar medias del **mismo grupo antes/después**      |\n",
    "| **ANOVA (One-way)**        | Independientes                | 3 o más                 | Ver si **al menos un grupo** es diferente              |\n",
    "\n",
    "---\n",
    "\n",
    "## 🧠 ¿Cómo saber cuál usar?\n",
    "\n",
    "- 👉 **Dos grupos independientes** → `ttest_ind(data1, data2)`\n",
    "- 👉 **Dos medidas del mismo grupo (antes/después)** → `ttest_rel(data1, data2)`\n",
    "- 👉 **Tres o más grupos independientes** → `f_oneway(data1, data2, data3, ...)`\n",
    "\n",
    "---\n",
    "\n",
    "## 📌 Requiere:\n",
    "- Datos con distribución **normal** (gaussiana)\n",
    "- Para ANOVA: **independencia** de los grupos y **igual varianza**\n"
   ]
  },
  {
   "cell_type": "code",
   "execution_count": null,
   "id": "879ddfdc-62f8-4152-8437-c743567a946b",
   "metadata": {},
   "outputs": [],
   "source": []
  }
 ],
 "metadata": {
  "kernelspec": {
   "display_name": "Python 3 (ipykernel)",
   "language": "python",
   "name": "python3"
  },
  "language_info": {
   "codemirror_mode": {
    "name": "ipython",
    "version": 3
   },
   "file_extension": ".py",
   "mimetype": "text/x-python",
   "name": "python",
   "nbconvert_exporter": "python",
   "pygments_lexer": "ipython3",
   "version": "3.11.10"
  }
 },
 "nbformat": 4,
 "nbformat_minor": 5
}
